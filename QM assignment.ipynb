{
 "cells": [
  {
   "cell_type": "code",
   "execution_count": 88,
   "metadata": {},
   "outputs": [
    {
     "name": "stdout",
     "output_type": "stream",
     "text": [
      "Probability of 100 surveys = 0.9525946000131916 , Number of invites =  283\n"
     ]
    }
   ],
   "source": [
    "import operator as op\n",
    "import numpy as np\n",
    "from functools import reduce\n",
    "\n",
    "\"\"\" Question 7 b\"\"\"\n",
    "n = 1000;\n",
    "m = 100;\n",
    "p = 0.4;\n",
    "def ncr(n, r):\n",
    "    r = min(r, n-r)\n",
    "    numer = reduce(op.mul, range(n, n-r, -1), 1)\n",
    "    denom = reduce(op.mul, range(1, r+1), 1)\n",
    "    return numer//denom \n",
    "#print(ncr(20,12))\n",
    "for n in range(m+1,1000):\n",
    "    sum = 0.0;\n",
    "\n",
    "    for i in range(m,n+1):\n",
    "        sum +=(p**(i))*((1-p)**(n-i))*ncr(n,i)\n",
    "    \n",
    "    if sum>0.95:\n",
    "        break\n",
    "print(\"Probability of 100 surveys =\",sum,\", Number of invites = \",n)"
   ]
  },
  {
   "cell_type": "code",
   "execution_count": 99,
   "metadata": {},
   "outputs": [
    {
     "name": "stdout",
     "output_type": "stream",
     "text": [
      "Probability of defects: 0.07864960352518559\n"
     ]
    }
   ],
   "source": [
    "from scipy.integrate import dblquad\n",
    "\"\"\" Question 5-a\"\"\" \n",
    "def gauss(x,y ,sigma,x_m,y_m):\n",
    "    #sigma = 0.001;\n",
    "    #x_m=1;\n",
    "    #y_m=1.002;\n",
    "    return (1/2/np.pi/sigma**2)*np.exp(-1*(1/2/sigma**2)*((x-x_m)**2+(y-y_m)**2));\n",
    "\n",
    "x_m = 1; \n",
    "y_m = 1.002; \n",
    "sigma = 0.001;\n",
    "\n",
    "#gauss(x,y, sigma,x_m,y_m) \n",
    "#print(gauss(x,y),(1/2/np.pi/sigma**2))\n",
    "#ans, err = dblquad(gauss, -np.inf, np.inf,lambda x: -np.inf,lambda x: np.inf)#args=(sigma,x_m,y_m)\n",
    "ans, err = dblquad(gauss, 0.9, 1.1,lambda x: x,lambda x: 1.1,args=(sigma,x_m,y_m))\n",
    "print(\"Probability of defects:\",ans)"
   ]
  },
  {
   "cell_type": "code",
   "execution_count": 100,
   "metadata": {},
   "outputs": [
    {
     "name": "stdout",
     "output_type": "stream",
     "text": [
      "Fraction of assembled units in this range: 0.5874938544864983\n"
     ]
    }
   ],
   "source": [
    "\"\"\" Question 5-b\"\"\"\n",
    "\"\"\"\n",
    "0.0016<bush-rod<0.0048\n",
    "bush =y, rod =x;\n",
    "rod<bush-0.0016\n",
    "rod>bush-0.0048\n",
    "\n",
    "Hence rod is between (bush-0.0048,bush-0.0016)\n",
    "\"\"\"\n",
    "ans, err = dblquad(gauss, 0.9, 1.1,lambda x: x-0.0048,lambda x: x-0.0016,args=(sigma,x_m,y_m))\n",
    "print(\"Fraction of assembled units in this range:\",ans)"
   ]
  },
  {
   "cell_type": "code",
   "execution_count": 120,
   "metadata": {},
   "outputs": [
    {
     "name": "stdout",
     "output_type": "stream",
     "text": [
      "0.9988\n",
      "Fraction of assembled units in this range: 0.742100964707619\n",
      "Fraction of assembled units in this range: 0.7409118456308965\n"
     ]
    }
   ],
   "source": [
    "\"\"\" To maximize desired range probability by changing x_m\"\"\"\n",
    "x_m = y_m - (0.0016+0.0048)/2; # rod is average of deviato\n",
    "print(x_m)\n",
    "#x_m = 0.5\n",
    "ans, err = dblquad(gauss, 0.9, 1.1,lambda x: x-0.0048,lambda x: x-0.0016,args=(sigma,x_m,y_m))\n",
    "print(\"Fraction of assembled units in this range:\",ans)\n",
    "\n",
    "x_m = 0.9987\n",
    "ans, err = dblquad(gauss, 0.9, 1.1,lambda x: x-0.0048,lambda x: x-0.0016,args=(sigma,x_m,y_m))\n",
    "print(\"Fraction of assembled units in this range:\",ans)"
   ]
  }
 ],
 "metadata": {
  "kernelspec": {
   "display_name": "Python 3",
   "language": "python",
   "name": "python3"
  },
  "language_info": {
   "codemirror_mode": {
    "name": "ipython",
    "version": 3
   },
   "file_extension": ".py",
   "mimetype": "text/x-python",
   "name": "python",
   "nbconvert_exporter": "python",
   "pygments_lexer": "ipython3",
   "version": "3.6.4"
  }
 },
 "nbformat": 4,
 "nbformat_minor": 2
}
